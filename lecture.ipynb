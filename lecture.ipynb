{
 "cells": [
  {
   "cell_type": "markdown",
   "id": "48fe462f",
   "metadata": {
    "slideshow": {
     "slide_type": "slide"
    }
   },
   "source": [
    "<h1 style=\"text-align: center; vertical-align: middle;\">Numerical Methods of Accelerator Physics</h1>\n",
    "<h2 style=\"text-align: center; vertical-align: middle;\">Lecture by Dr. Adrian Oeftiger</h2>\n",
    "\n",
    "<img src=\"./img/etit.png\" style=\"width: 20%; margin: auto;\" />\n",
    "\n",
    "<h3 style=\"text-align: center; vertical-align: middle;\">Part 3: 04.11.2022</h3>"
   ]
  },
  {
   "cell_type": "markdown",
   "id": "ee47c2f9",
   "metadata": {
    "slideshow": {
     "slide_type": "slide"
    }
   },
   "source": [
    "<h2>Run this notebook online!</h2>\n",
    "\n",
    "Interact and run this jupyter notebook online:\n",
    "\n",
    "<div class=\"alert alert-block alert-info\" style=\"text-align:center;\">\n",
    "1. via the public mybinder.org service: <br />\n",
    "\n",
    "<p style=\"text-align: center; margin-left, margin-right: auto; width: 100%;\">\n",
    "<a href=\"https://mybinder.org/v2/gh/aoeftiger/TUDa-NMAP-03/v1.02\"><img src=\"./img/binder_logo.svg\" /></a>\n",
    "</p>\n",
    "</div>\n",
    "\n",
    "<div class=\"alert alert-block alert-success\" style=\"text-align:center;\">\n",
    "2. on the <a href=\"https://tu-jupyter-i.ca.hrz.tu-darmstadt.de/\">local TU Darmstadt jupyterhub $\\nearrow$</a> (using your TU ID)\n",
    "\n",
    "$\\implies$ make sure you install all the required packages, run this in an empty jupyter notebook cell:\n",
    "\n",
    "    !pip install -r requirements_noversions.txt\n",
    "</div>\n",
    "\n",
    "Finally, also find this lecture rendered [as HTML slides on github $\\nearrow$](https://aoeftiger.github.io/TUDa-NMAP-03/) along with the [source repository $\\nearrow$](https://github.com/aoeftiger/TUDa-NMAP-03)."
   ]
  },
  {
   "cell_type": "markdown",
   "id": "9af5eb2e",
   "metadata": {
    "slideshow": {
     "slide_type": "slide"
    }
   },
   "source": [
    "<h2>Announcements</h2>\n",
    "\n",
    "Starting flipped classroom next week:\n",
    "- first video material: lecture part 4\n",
    "    - available on moodle by Monday night, 7.11.2022\n",
    "    - please watch it until Friday, 11.11.2022\n",
    "    - note your questions\n",
    "    \n",
    "- Friday, 11.11.2022:\n",
    "    - lecture time: discuss open questions & solve problems together"
   ]
  },
  {
   "cell_type": "markdown",
   "id": "91e515bd",
   "metadata": {
    "slideshow": {
     "slide_type": "slide"
    }
   },
   "source": [
    "<h2 style=\"color: #b51f2a\">Refresher!</h2>\n",
    "\n",
    "- coordinate system: $\\zeta=(x,x',y,y',z,\\delta)$\n",
    "- rms <b>emittance</b> (phase-space area, thermal energy)\n",
    "- non-linearities and <b>filamentation</b>: microscopic level (Liouville theorem) vs. macroscopic level (emittance growth)\n",
    "- <b>emittance preservation</b> and injection <b>mismatch</b>\n",
    "- <b>modelling error</b> (vs. discretisation error)\n",
    "- discrete frequency analysis:\n",
    "    - <b>FFT</b>: Fast Fourier Transform\n",
    "    - <b>NAFF</b>: Numerical Analysis of Fundamental Freqencies"
   ]
  },
  {
   "cell_type": "markdown",
   "id": "69b708ff",
   "metadata": {
    "slideshow": {
     "slide_type": "slide"
    }
   },
   "source": [
    "<h2 style=\"color: #b51f2a\">Today!</h2>\n",
    "\n",
    "1. Chaos and Early Indicators\n",
    "2. Numerical artefacts: rounding and truncation"
   ]
  },
  {
   "cell_type": "markdown",
   "id": "c8c63c69",
   "metadata": {
    "slideshow": {
     "slide_type": "slide"
    }
   },
   "source": [
    "<h2>Non-linearities</h2>\n",
    "\n",
    "Non-linearities in particle dynamics can originate from e.g.:\n",
    "\n",
    "- <b>stray fields</b> in drift spaces\n",
    "- higher-order <b>multipole components</b> in dipole magnets (steering) and quadrupole magnets (focusing)\n",
    "- higher-order <b>multipole magnets</b> (sextupoles, octupoles) used to control various properties of the beam\n",
    "- effects of <b>beam fields</b> on individual particles within the beam (space-charge forces, beam-beam effects when colliding two beams)\n",
    "\n",
    "Effects can be varied and quite dramatic! $\\implies$ require understanding of nonlinear dynamics to optimise design and operation of many accelerator systems!"
   ]
  },
  {
   "cell_type": "markdown",
   "id": "78b8029e",
   "metadata": {
    "slideshow": {
     "slide_type": "slide"
    }
   },
   "source": [
    "<h2>Effects of Non-linearities</h2>\n",
    "\n",
    "Design accelerator based on linear quasi-periodic oscillations $\\implies$ focusing around reference particle, phase-space trajectory should be an ellipse!\n",
    "\n",
    "Non-linearities in beam lines can have several effects:\n",
    "- shape of phase-space ellipse can become distorted\n",
    "- phase advance per period (frequency) can depend on oscillation amplitude\n",
    "- motion can be stable for small amplitude but unstable at large amplitude: chaotic motion\n",
    "- features such as \"phase-space islands\" can appear in phase-space portrait"
   ]
  },
  {
   "cell_type": "markdown",
   "id": "2a2e80a7",
   "metadata": {
    "slideshow": {
     "slide_type": "slide"
    }
   },
   "source": [
    "<h2>Chaotic Dynamics</h2>\n",
    "\n",
    "<img src=\"./img/double_pendulum.gif\" alt=\"Double pendulum with slightly different initial conditions\" style=\"width:20%; float:right; margin-left: 1em;\" />\n",
    "\n",
    "<b>Tentative definition</b>:\n",
    "    \n",
    "- sensitive to initial conditions: <i>butterfly effect</i>\n",
    "- qualitatively recurring\n",
    "\n",
    "but chaos is <b>not</b>:\n",
    "\n",
    "- (strictly) periodic or <b>regular</b>\n",
    "- \"escalating\"\n",
    "\n",
    "<p style=\"clear: both; font-size: 10pt; text-align: right; float: right;\"><a href=\"https://commons.wikimedia.org/wiki/File:Demonstrating_Chaos_with_a_Double_Pendulum.gif\">image by Ari Rubinsztejn</a></p>"
   ]
  },
  {
   "cell_type": "markdown",
   "id": "1a0fb550",
   "metadata": {
    "slideshow": {
     "slide_type": "slide"
    }
   },
   "source": [
    "<div style=\"text-align: center; margin:auto;\">\n",
    "<h3>... what is the problem?</h3>\n",
    "\n",
    "$\\implies$ motion <b>not predictable</b> despite of deterministic dynamics! (correct initial condition? numerical precision? ...)\n",
    "\n",
    "$\\implies$ cannot exclude sudden changes of amplitude on long-term time scales (synchrotron storage times) from <b>short-term simulations</b> in case of chaotic motion!\n",
    "</div>"
   ]
  },
  {
   "cell_type": "markdown",
   "id": "9cd9b947",
   "metadata": {
    "slideshow": {
     "slide_type": "slide"
    }
   },
   "source": [
    "<h2>Deterministic Chaos</h2>\n",
    "\n",
    "<b>Necessary condition</b>: non-linearity\n",
    "\n",
    "<i>\"The exponential divergence or convergence of nearby trajectories (Lyapunov exponents) is conceptually the most basic indicator of deterministic chaos.\"</i>\n",
    "<p style=\"text-align: right;\">M. Sano and Y. Sawada (1985) <br />Phys. Rev. Lett. <b>55</b>, 1082</p>\n",
    "\n",
    "<b>One possible conceptual approach</b>: \n",
    "<div class=\"alert alert-block alert-success\" style=\"text-align:center;\">deterministic chaos $\\doteq$ \"bounded, deterministic dynamics with a positive Lyapunov exponent.\"</div>\n"
   ]
  },
  {
   "cell_type": "markdown",
   "id": "04d15570",
   "metadata": {
    "slideshow": {
     "slide_type": "slide"
    }
   },
   "source": [
    "<h2>(Maximum) Lyapunov Exponent</h2>\n",
    "\n",
    "Consider two nearby trajectories $\\zeta_1, \\zeta_2$ evolving over path length $s$:\n",
    "\n",
    "- infinitesimal distance $|\\zeta_1-\\zeta_2|\\rightarrow 0$\n",
    "- infinite evolution $s\\rightarrow \\infty$\n",
    "\n",
    "Chaotic behaviour if distance grows or shrinks exponentially:\n",
    "\n",
    "$$|\\zeta_1(s_0 + s) - \\zeta_2(s_0 + s)| = \\underbrace{|\\zeta_1(s_0) - \\zeta_2(s_0)|}\\limits_{\\Delta\\zeta(s_0)} \\cdot e^{\\lambda_1 s}$$\n",
    "\n",
    "$\\implies$ $\\lambda_1$: maximum <b>Lyapunov exponent</b>\n",
    "\n",
    "<div class=\"alert alert-block alert-success\" style=\"text-align:center;\">$$ \\lambda_1 \\doteq \\lim\\limits_{s\\rightarrow \\infty}\\,\\lim\\limits_{\\Delta\\zeta(s_0)\\rightarrow 0}\\,\\frac{1}{s}\\,\\ln\\left(\\frac{\\Delta\\zeta(s_0+s)}{\\Delta\\zeta(s_0)}\\right)$$</div>"
   ]
  },
  {
   "cell_type": "markdown",
   "id": "bf64b0c5",
   "metadata": {
    "slideshow": {
     "slide_type": "slide"
    }
   },
   "source": [
    "<h2>Lyapunov Spectrum</h2>\n",
    "\n",
    "When chaotic: perturbation aligns along direction of strongest expansion (or weakest contraction), associated with maximum Lyupunov exponent \n",
    "\n",
    "$\\implies$ orthogonal directions for further Lyapunov exponents $\\lambda_i$\n",
    "\n",
    "$\\implies$ as many $\\lambda_i$ as phase-space coordinates"
   ]
  },
  {
   "cell_type": "markdown",
   "id": "fe165404",
   "metadata": {
    "slideshow": {
     "slide_type": "slide"
    }
   },
   "source": [
    "<h2>Example: Lorenz Attractor</h2>\n",
    "\n",
    "Studied by E. Lorenz in 1963 for atmospheric convection:\n",
    "\n",
    "<img src=\"./img/Lorenz_attractor.gif\" alt=\"Lorenz attractor\" style=\"width:20%; float:right; margin-left:1em;\" />\n",
    "\n",
    "\n",
    "$$\\begin{align}\n",
    "    \\frac{dx}{dt}&=\\sigma(y-x) \\\\\n",
    "    \\frac{dy}{dt}&=x(\\rho - z) - y \\\\\n",
    "    \\frac{dz}{dt}&=xy - \\beta z\n",
    "\\end{align}$$\n",
    "    \n",
    "Lorenz used $\\sigma=10, \\beta=\\frac{8}{3}, \\rho=28$ and investigated chaotic motion.\n",
    "\n",
    "<p style=\"clear:both; font-size:10pt; text-align: right; float:right;\"><a href=\"https://commons.wikimedia.org/wiki/File:A_Trajectory_Through_Phase_Space_in_a_Lorenz_Attractor.gif\">image by Dan Quinn</a></p>"
   ]
  },
  {
   "cell_type": "markdown",
   "id": "3eca3d15",
   "metadata": {
    "slideshow": {
     "slide_type": "slide"
    }
   },
   "source": [
    "<h2>Chaotic Motion in Lorenz Attractor</h2>\n",
    "\n",
    "Two identical Lorenz oscillators with initial conditions.\n",
    "Second oscillator is slightly perturbed ($10^{-14}$) at $t = 30$:\n",
    "    \n",
    "<img src=\"./img/Lorenz_Lyapunov.png\" style=\"width:70%; margin:auto;\" alt=\"Trajectories in Lorenz attractor\" />\n",
    "\n",
    "<p style=\"font-size: 10pt; text-align: right; \"><a href=\"https://www.ukbonn.de/site/assets/files/22947/02-wt-dynsystchaos.pdf\">image by G. Ansmann</a></p>"
   ]
  },
  {
   "cell_type": "code",
   "execution_count": null,
   "id": "d90dd324",
   "metadata": {
    "slideshow": {
     "slide_type": "slide"
    }
   },
   "outputs": [],
   "source": [
    "from config import (np, plt, hamiltonian, \n",
    "                    plot_hamiltonian, solve_leapfrog, dt)\n",
    "%matplotlib inline"
   ]
  },
  {
   "cell_type": "code",
   "execution_count": null,
   "id": "207e1571",
   "metadata": {},
   "outputs": [],
   "source": [
    "N = 11\n",
    "\n",
    "thetas = np.linspace(0, 0.99 * np.pi, 11)\n",
    "ps = np.zeros_like(thetas)"
   ]
  },
  {
   "cell_type": "code",
   "execution_count": null,
   "id": "23bf4ef0",
   "metadata": {
    "slideshow": {
     "slide_type": "slide"
    }
   },
   "outputs": [],
   "source": [
    "plt.scatter(thetas, ps, c='b', marker='.')\n",
    "\n",
    "plot_hamiltonian()"
   ]
  },
  {
   "cell_type": "markdown",
   "id": "811d8ab2",
   "metadata": {
    "slideshow": {
     "slide_type": "slide"
    }
   },
   "source": [
    "<h2>Time evolution</h2>\n",
    "\n",
    "Numerical integration of equations of motion for distribution of pendulums, using leapfrog (drift+kick+drift):"
   ]
  },
  {
   "cell_type": "code",
   "execution_count": null,
   "id": "70052ca6",
   "metadata": {},
   "outputs": [],
   "source": [
    "n_steps = 1000"
   ]
  },
  {
   "cell_type": "code",
   "execution_count": null,
   "id": "5d556217",
   "metadata": {
    "slideshow": {
     "slide_type": "-"
    }
   },
   "outputs": [],
   "source": [
    "results_thetas = np.zeros((n_steps, N), dtype=np.float32)\n",
    "results_thetas[0] = thetas\n",
    "\n",
    "results_ps = np.zeros((n_steps, N), dtype=np.float32)\n",
    "results_ps[0] = ps\n",
    "\n",
    "for k in range(1, n_steps):\n",
    "    results_thetas[k], results_ps[k] = solve_leapfrog(results_thetas[k - 1], results_ps[k - 1])"
   ]
  },
  {
   "cell_type": "code",
   "execution_count": null,
   "id": "584070b0",
   "metadata": {
    "slideshow": {
     "slide_type": "slide"
    }
   },
   "outputs": [],
   "source": [
    "plt.scatter(results_thetas, results_ps, c='b', marker='.', s=1)\n",
    "\n",
    "plot_hamiltonian()"
   ]
  },
  {
   "cell_type": "markdown",
   "id": "b42b34be",
   "metadata": {
    "slideshow": {
     "slide_type": "slide"
    }
   },
   "source": [
    "<h2>Chaos near Unstable Fixed Point</h2>"
   ]
  },
  {
   "cell_type": "code",
   "execution_count": null,
   "id": "ba0c631a",
   "metadata": {},
   "outputs": [],
   "source": [
    "N = 2\n",
    "\n",
    "thetas = np.pi * np.ones(N, dtype=np.float32)\n",
    "ps = np.linspace(0.01, 0.05, N)"
   ]
  },
  {
   "cell_type": "code",
   "execution_count": null,
   "id": "8c77acc6",
   "metadata": {},
   "outputs": [],
   "source": [
    "results_thetas2 = np.zeros((n_steps, N), dtype=np.float32)\n",
    "results_thetas2[0] = thetas\n",
    "\n",
    "results_ps2 = np.zeros((n_steps, N), dtype=np.float32)\n",
    "results_ps2[0] = ps\n",
    "\n",
    "for k in range(1, n_steps):\n",
    "    results_thetas2[k], results_ps2[k] = solve_leapfrog(results_thetas2[k - 1], results_ps2[k - 1])"
   ]
  },
  {
   "cell_type": "code",
   "execution_count": null,
   "id": "4ec25fd6",
   "metadata": {
    "slideshow": {
     "slide_type": "slide"
    }
   },
   "outputs": [],
   "source": [
    "plt.scatter(results_thetas2 % (2*np.pi), results_ps2, c='b', marker='.', s=1)\n",
    "plt.scatter([np.pi], [0], c='r', marker='o')\n",
    "\n",
    "plt.xlim(np.pi - 0.1, np.pi + 0.1)\n",
    "plt.ylim(-0.01, 0.1)\n",
    "plt.xlabel(r'$\\theta$')\n",
    "plt.ylabel(r'$p$')"
   ]
  },
  {
   "cell_type": "markdown",
   "id": "66db646b",
   "metadata": {},
   "source": [
    "$\\implies$ observation near red unstable fixed point:\n",
    "- phase-space trajectory becomes non-regular, obvious during subsequent passages when wrapping $\\theta$ to interval $\\bigl[0, 2\\pi\\bigr)$"
   ]
  },
  {
   "cell_type": "markdown",
   "id": "381cc42c",
   "metadata": {
    "slideshow": {
     "slide_type": "slide"
    }
   },
   "source": [
    "<h2>Qualitative Investigation of Local Lyapunov Exponent</h2>\n",
    "\n",
    "First around stable fixed point $\\theta=0$, $p=0$ -- then around unstable fixed point $\\theta=\\pi$, $p=0$:"
   ]
  },
  {
   "cell_type": "code",
   "execution_count": null,
   "id": "2ee3a9de",
   "metadata": {},
   "outputs": [],
   "source": [
    "dist = 1e-10\n",
    "\n",
    "thetas = np.pi * np.ones(N, dtype=np.float64) # change this line\n",
    "ps = np.array([0.001, 0.001 + dist], dtype=np.float64)"
   ]
  },
  {
   "cell_type": "code",
   "execution_count": null,
   "id": "ae2e3134",
   "metadata": {},
   "outputs": [],
   "source": [
    "n_steps = 100000"
   ]
  },
  {
   "cell_type": "code",
   "execution_count": null,
   "id": "69bac2c8",
   "metadata": {},
   "outputs": [],
   "source": [
    "results_thetas3 = np.zeros((n_steps, N), dtype=np.float64)\n",
    "results_thetas3[0] = thetas\n",
    "\n",
    "results_ps3 = np.zeros((n_steps, N), dtype=np.float64)\n",
    "results_ps3[0] = ps\n",
    "\n",
    "for k in range(1, n_steps):\n",
    "    results_thetas3[k], results_ps3[k] = solve_leapfrog(results_thetas3[k - 1], results_ps3[k - 1])"
   ]
  },
  {
   "cell_type": "code",
   "execution_count": null,
   "id": "19cb88b3",
   "metadata": {
    "slideshow": {
     "slide_type": "slide"
    }
   },
   "outputs": [],
   "source": [
    "plt.plot(results_thetas3[:, 0], label='$p_{ini}$')\n",
    "plt.plot(results_thetas3[:, 1], label='$p_{ini} + \\Delta p_{ini}$')\n",
    "\n",
    "plt.xlabel('Steps $k$')\n",
    "plt.ylabel(r'$\\theta$')\n",
    "plt.legend();"
   ]
  },
  {
   "cell_type": "markdown",
   "id": "a8e3199c",
   "metadata": {
    "slideshow": {
     "slide_type": "slide"
    }
   },
   "source": [
    "<h2>Distance $|(\\theta_2,p_2)-(\\theta_1,p_1)|$</h2>"
   ]
  },
  {
   "cell_type": "code",
   "execution_count": null,
   "id": "25c948c3",
   "metadata": {
    "slideshow": {
     "slide_type": "-"
    }
   },
   "outputs": [],
   "source": [
    "results_dist = np.sqrt(\n",
    "    (results_thetas3[:, 1] - results_thetas3[:, 0])**2 + \n",
    "    (results_ps3[:, 1] - results_ps3[:, 0])**2\n",
    ")"
   ]
  },
  {
   "cell_type": "code",
   "execution_count": null,
   "id": "e712d30d",
   "metadata": {
    "scrolled": false
   },
   "outputs": [],
   "source": [
    "plt.plot(results_dist)\n",
    "\n",
    "plt.yscale('log')\n",
    "plt.xlabel('Steps $k$')\n",
    "plt.ylabel('Phase-space distance');"
   ]
  },
  {
   "cell_type": "markdown",
   "id": "bce80973",
   "metadata": {
    "slideshow": {
     "slide_type": "-"
    }
   },
   "source": [
    "<!--<h2>Evaluating Local Maximum Lyapunov Exponent</h2>\n",
    "\n",
    "Near exponential increase over two periods (first 200 steps), then bounded.\n",
    "\n",
    "Local Maximum Lyapunov exponent estimated by simple linear regression:\n",
    "\n",
    "$$\\lambda_1 \\approx \\mathrm{slope}\\left(\\frac{1}{k\\Delta t} \\ln\\left(\\frac{|(\\theta_2,p_2)-(\\theta_1,p_1)|}{10^{-6}}\\right)\\right)$$\n",
    "\n",
    "B, A = np.polyfit(\n",
    "    x=np.arange(n_steps),\n",
    "    y=np.log(results_dist[:] / dist),\n",
    "    deg=1\n",
    ")\n",
    "\n",
    "plt.plot(results_dist[:] / dist)\n",
    "plt.plot(np.exp(B * np.arange(n_steps) + A))\n",
    "\n",
    "plt.yscale('log')\n",
    "-->"
   ]
  },
  {
   "cell_type": "markdown",
   "id": "095f3cb0",
   "metadata": {
    "slideshow": {
     "slide_type": "slide"
    }
   },
   "source": [
    "<h2>Frequency Diffusion</h2>\n",
    "\n",
    "Use NAFF algorithm as early indicator of chaotic motion in periodic systems:\n",
    "\n",
    "<div class=\"alert alert-block alert-success\" style=\"text-align:center;\">\n",
    "Regular orbits $\\Longleftrightarrow$ fixed frequency up to numerical accuracy!</div>\n",
    "\n",
    "<p style=\"text-align:center;width:100%;\">vs.</p>\n",
    "\n",
    "<div class=\"alert alert-block alert-success\" style=\"text-align:center;\">\n",
    "Non-regular orbits $\\Longleftrightarrow$ frequency evolves in time indicating chaotic diffusion of orbit!</div>\n",
    "\n",
    "Further reading: \"Introduction to Frequency Map Analysis\" by J. Laskar in <a href=\"https://link.springer.com/content/pdf/10.1007/978-94-011-4673-9.pdf\">Hamiltonian Systems with Three or More Degrees of Freedom, Springer (1999), pp. 134-150</a>"
   ]
  },
  {
   "cell_type": "markdown",
   "id": "298bede7",
   "metadata": {
    "slideshow": {
     "slide_type": "slide"
    }
   },
   "source": [
    "<h2>Example: Earth-Moon System</h2>\n",
    "    \n",
    "Precession of Earth is stabilised by presence of Moon:\n",
    "\n",
    "<img src=\"./img/earth-moon.png\" alt=\"Earth precession frequency vs. amplitude\" style=\"width:60%; margin:auto;\" />\n",
    "\n",
    "<p style=\"clear:both; font-size:10pt; text-align: right; float:right;\"><a href=\"https://link.springer.com/content/pdf/10.1007/978-94-011-4673-9.pdf\">image by J. Laskar</a></p>"
   ]
  },
  {
   "cell_type": "markdown",
   "id": "da27d54c",
   "metadata": {
    "slideshow": {
     "slide_type": "slide"
    }
   },
   "source": [
    "<h2>Example: CERN LHC</h2>\n",
    "\n",
    "<img src=\"./img/lhc-fma.png\" alt=\"Frequency Map Analysis of CERN LHC\" style=\"float: right; width:40%; margin-left: 1em;\" />\n",
    "\n",
    "Frequency Map Analysis (FMA) to identify diffusion due to non-linear resonances:\n",
    "\n",
    "<div class=\"alert alert-block alert-success\" style=\"text-align:center;\">Concept of <b>dynamic aperture</b>: smallest amplitude where particles survive (before chaos and amplitude increase can lead to loss!)!</div>\n",
    "\n",
    "$\\implies$ always seek to maximise dynamic aperture in accelerators\n",
    "\n",
    "$\\implies$ use of \"early chaos indicators\" such as Lyapunov exponents or FMA: identification and mitigation/correction of sources\n",
    "\n",
    "<p style=\"clear:both; font-size:10pt; text-align: right; float:right;\"><a href=\"https://aip.scitation.org/doi/pdf/10.1063/1.4884495\">image by Y. Papaphilippou</a></p>"
   ]
  },
  {
   "cell_type": "markdown",
   "id": "f4d94542",
   "metadata": {
    "slideshow": {
     "slide_type": "slide"
    }
   },
   "source": [
    "<h2>Try Concept on Discrete Pendulum</h2>\n",
    "\n",
    "Can we detect frequency diffusion in discrete pendulum?"
   ]
  },
  {
   "cell_type": "code",
   "execution_count": null,
   "id": "d96d0e33",
   "metadata": {},
   "outputs": [],
   "source": [
    "n_steps = 100000"
   ]
  },
  {
   "cell_type": "code",
   "execution_count": null,
   "id": "d421f60d",
   "metadata": {},
   "outputs": [],
   "source": [
    "theta_ini = np.pi - 0.001\n",
    "p_ini = 0"
   ]
  },
  {
   "cell_type": "code",
   "execution_count": null,
   "id": "ce3a5c99",
   "metadata": {},
   "outputs": [],
   "source": [
    "results_thetas4 = np.zeros(n_steps, dtype=np.float64)\n",
    "results_thetas4[0] = theta_ini\n",
    "\n",
    "results_ps4 = np.zeros(n_steps, dtype=np.float64)\n",
    "results_ps4[0] = p_ini\n",
    "\n",
    "for k in range(1, n_steps):\n",
    "    results_thetas4[k], results_ps4[k] = solve_leapfrog(results_thetas4[k - 1], results_ps4[k - 1])"
   ]
  },
  {
   "cell_type": "code",
   "execution_count": null,
   "id": "16a6bd9f",
   "metadata": {
    "slideshow": {
     "slide_type": "slide"
    }
   },
   "outputs": [],
   "source": [
    "plt.plot(results_thetas4)\n",
    "\n",
    "plt.xlabel('Steps $k$')\n",
    "plt.ylabel(r'$\\theta$');"
   ]
  },
  {
   "cell_type": "code",
   "execution_count": null,
   "id": "28c459ff",
   "metadata": {
    "slideshow": {
     "slide_type": "slide"
    }
   },
   "outputs": [],
   "source": [
    "import PyNAFF"
   ]
  },
  {
   "cell_type": "code",
   "execution_count": null,
   "id": "362f7c90",
   "metadata": {},
   "outputs": [],
   "source": [
    "window_length = 1000\n",
    "\n",
    "freqs_naff = []\n",
    "\n",
    "for signal in results_thetas4.reshape((n_steps // window_length, window_length)):\n",
    "    freq_naff = PyNAFF.naff(signal - np.mean(signal), turns=window_length, nterms=1)[0, 1]\n",
    "    freqs_naff += [freq_naff]"
   ]
  },
  {
   "cell_type": "code",
   "execution_count": null,
   "id": "20f8d6f2",
   "metadata": {
    "slideshow": {
     "slide_type": "-"
    }
   },
   "outputs": [],
   "source": [
    "plt.plot(np.arange(0, n_steps, window_length), freqs_naff, ls='none', marker='.')\n",
    "\n",
    "plt.xlabel('Steps $k$')\n",
    "plt.ylabel('NAFF determined frequency');\n",
    "\n",
    "# plt.ylim(1.59e-2, 1.6e-2)"
   ]
  },
  {
   "cell_type": "code",
   "execution_count": null,
   "id": "5eb08454",
   "metadata": {
    "slideshow": {
     "slide_type": "slide"
    }
   },
   "outputs": [],
   "source": [
    "plt.figure(figsize=(10, 5))\n",
    "plt.hist(freqs_naff);"
   ]
  },
  {
   "cell_type": "markdown",
   "id": "dcf95d90",
   "metadata": {
    "slideshow": {
     "slide_type": "slide"
    }
   },
   "source": [
    "<h2>Summing up Concepts</h2>\n",
    "\n",
    "- sources for non-linearities in accelerators\n",
    "- deterministic chaos: (bounded) deterministic dynamics with a positive Lyapunov exponent\n",
    "    - sensitivity to initial conditions\n",
    "    - prevents prediction for long-term time scales\n",
    "- early indicators of chaos:\n",
    "    - (maximum) Lyapunov exponent\n",
    "    - Frequency Map Analysis (FMA)"
   ]
  },
  {
   "cell_type": "markdown",
   "id": "d3a9c352",
   "metadata": {
    "slideshow": {
     "slide_type": "slide"
    }
   },
   "source": [
    "<h2>Floating Point Representation</h2>\n",
    "\n",
    "Represent real numbers $r\\in\\mathbb{R}$ on computers by \"floats\":\n",
    "- finite and discrete set of numbers\n",
    "- floating-point form: $r=\\underbrace{6.022}\\limits_\\text{significand}\\times 10{\\underbrace{{}^{23}}\\limits_\\text{exponent}}$\n",
    "\n",
    "Todays standard: IEEE 754\n",
    "\n",
    "$r=\\pm a \\times 2^{e}$\n",
    "\n",
    "e.g. a \"single-precision\" float (FP32):\n",
    "\n",
    "- 1 sign bit\n",
    "- $t=23$ bits for significand $a$\n",
    "- 8 bits for exponents in range $e\\in[-126, 127]$\n",
    "- $\\pm\\infty$ and NaN"
   ]
  },
  {
   "cell_type": "markdown",
   "id": "aacabe04",
   "metadata": {
    "slideshow": {
     "slide_type": "slide"
    }
   },
   "source": [
    "<h2>Numerical Artefacts</h2>\n",
    "\n",
    "Floating point representation of numbers on computers $\\leadsto$ numerical artefacts:\n",
    "- rounding: storing the least significant bit depending on arithmetic operation\n",
    "- truncating: e.g. π cannot be stored exactly but is truncated\n",
    "\n",
    "Smallest \"machine\" precision in resolving real numbers: $2^{-t}$\n",
    "- FP32: $2^{-23}\\approx 10^{-7}$\n",
    "- FP64: $2^{-52}\\approx 10^{-15}$\n",
    "\n",
    "<div class=\"alert alert-block alert-warning\" style=\"text-align:center;\">Accumulation of errors $\\implies$ gradual loss of significance</div>"
   ]
  },
  {
   "cell_type": "markdown",
   "id": "c19ab903",
   "metadata": {
    "slideshow": {
     "slide_type": "-"
    }
   },
   "source": [
    "<!--<h2>Modelling the Rounding Error $\\varepsilon$</h2>\n",
    "\n",
    "For a number $k$ of computational steps:\n",
    "\n",
    "- in the worst case can be a run-away: always leaning to the same side (e.g. always rounding up)\n",
    "- in the average case: random walk with $\\varepsilon\\propto \\sqrt{k}$\n",
    "-->"
   ]
  },
  {
   "cell_type": "markdown",
   "id": "9d1a1cd3",
   "metadata": {
    "slideshow": {
     "slide_type": "slide"
    }
   },
   "source": [
    "<h2>(Drastic) Example of Truncation Error</h2>\n",
    "\n",
    "The python library `mpmath` works with arbitrary numerical precision (`workdps` for decimal precision):"
   ]
  },
  {
   "cell_type": "code",
   "execution_count": null,
   "id": "7a436b28",
   "metadata": {},
   "outputs": [],
   "source": [
    "import mpmath as mp\n",
    "\n",
    "with mp.workdps(7):\n",
    "    x = mp.mpf(10) / 9   # == 1.11...\n",
    "    \n",
    "    for _ in range(30):\n",
    "        print (x)\n",
    "        x = (x - 1) * 10"
   ]
  },
  {
   "cell_type": "markdown",
   "id": "d7fa449e",
   "metadata": {
    "slideshow": {
     "slide_type": "slide"
    }
   },
   "source": [
    "<h2>Overview: Sources of Simulation Errors</h2>\n",
    "    \n",
    "1. Discretisation error\n",
    "2. Modelling error\n",
    "3. Numerical artefacts\n",
    "4. Input error..."
   ]
  },
  {
   "cell_type": "markdown",
   "id": "47868652",
   "metadata": {
    "slideshow": {
     "slide_type": "slide"
    }
   },
   "source": [
    "<h2>Summary</h2>\n",
    "\n",
    "- sources for non-linearities in accelerators\n",
    "- deterministic chaos\n",
    "- early indicators:\n",
    "    - (maximum) Lyapunov exponent\n",
    "    - Frequency Map Analysis\n",
    "- numerical artefacts: rounding and truncation, machine precision"
   ]
  },
  {
   "cell_type": "markdown",
   "id": "3cbbecb7",
   "metadata": {
    "slideshow": {
     "slide_type": "slide"
    }
   },
   "source": [
    "<h2>Literature</h2>\n",
    "\n",
    "- chapter 2.1 in Justin Solomon, [Numerical Algorithms](https://people.csail.mit.edu/jsolomon/share/book/numerical_book.pdf)"
   ]
  }
 ],
 "metadata": {
  "celltoolbar": "Slideshow",
  "kernelspec": {
   "display_name": "Python 3 (ipykernel)",
   "language": "python",
   "name": "python3"
  },
  "language_info": {
   "codemirror_mode": {
    "name": "ipython",
    "version": 3
   },
   "file_extension": ".py",
   "mimetype": "text/x-python",
   "name": "python",
   "nbconvert_exporter": "python",
   "pygments_lexer": "ipython3",
   "version": "3.8.0"
  },
  "rise": {
   "enable_chalkboard": true,
   "footer": "<p>Fachbereich Elektrotechnik und Informationstechnik (etit)   |   Institut für Teilchenbeschleunigung und Elektromagnetische Felder (TEMF)   |   Dr. Adrian Oeftiger</p>",
   "header": "<img src='https://upload.wikimedia.org/wikipedia/de/thumb/2/24/TU_Darmstadt_Logo.svg/640px-TU_Darmstadt_Logo.svg.png' />",
   "scroll": true,
   "theme": "simple",
   "transition": "none"
  }
 },
 "nbformat": 4,
 "nbformat_minor": 5
}
